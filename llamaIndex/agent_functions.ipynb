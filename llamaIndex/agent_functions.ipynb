{
 "cells": [
  {
   "cell_type": "code",
   "execution_count": null,
   "id": "cb0b786b",
   "metadata": {},
   "outputs": [],
   "source": [
    "from llama_index.core import Settings \n",
    "from llama_index.llms.groq import Groq\n",
    "from llama_index.core.tools import FunctionTool\n",
    "from llama_index.core.agent import FunctionCallingAgentWorker, AgentRunner\n",
    "import arxiv\n",
    "import os "
   ]
  },
  {
   "cell_type": "code",
   "execution_count": null,
   "id": "c4f51eaa",
   "metadata": {},
   "outputs": [],
   "source": [
    "llm = Groq(\n",
    "    model=\"llama-3.3-70b-versatile\",\n",
    "    api_key=os.environ.get(\"GROQ_API_KEY\"),\n",
    ")"
   ]
  },
  {
   "cell_type": "code",
   "execution_count": null,
   "id": "8235294e",
   "metadata": {},
   "outputs": [],
   "source": [
    "def calcular_imposto_renda(rendimento: float) -> str:\n",
    "    if rendimento <= 22847.76:\n",
    "        return \"Isento de Imposto de Renda\"\n",
    "    elif rendimento <= 33919.80:\n",
    "        imposto = (rendimento - 22847.76) * 0.075\n",
    "    elif rendimento <= 45012.60:\n",
    "        imposto = (rendimento - 33919.80) * 0.15 + 826.29\n",
    "    elif rendimento <= 55976.16:\n",
    "        imposto = (rendimento - 45012.60) * 0.225 + 1428.14\n",
    "    else:\n",
    "        imposto = (rendimento - 55976.16) * 0.275 + 2203.91\n",
    "\n",
    "    return f\"Imposto de Renda devido: R$ {imposto:.2f}\""
   ]
  },
  {
   "cell_type": "code",
   "execution_count": null,
   "id": "d7d56ec4",
   "metadata": {},
   "outputs": [],
   "source": [
    "ferramenta_calculo_imposto = FunctionTool.from_defaults(\n",
    "    fn=calcular_imposto_renda,\n",
    "    name=\"calcular_imposto_renda\",\n",
    "    description=(\n",
    "        \"Calcula o Imposto de Renda devido com base no rendimento anual. \"\n",
    "        \"Argumento: rendimento (float) - Rendimento anual em reais. \"\n",
    "        \"Retorna uma mensagem indicando se é isento ou o valor do imposto a pagar.\"\n",
    "    ),\n",
    "\n",
    ")"
   ]
  },
  {
   "cell_type": "code",
   "execution_count": null,
   "id": "b765700b",
   "metadata": {},
   "outputs": [],
   "source": [
    "agent_worker_imposto = FunctionCallingAgentWorker.from_tools(\n",
    "    llm=llm,\n",
    "    tools=[ferramenta_calculo_imposto],\n",
    "    verbose=True,\n",
    "    allow_parallel_tool_calls=True, # Permite chamadas paralelas de ferramentas\n",
    ")"
   ]
  },
  {
   "cell_type": "code",
   "execution_count": null,
   "id": "0c24ac58",
   "metadata": {},
   "outputs": [],
   "source": [
    "agent_imposto = AgentRunner(agent_worker_imposto)\n"
   ]
  },
  {
   "cell_type": "code",
   "execution_count": null,
   "id": "a35c73d5",
   "metadata": {},
   "outputs": [],
   "source": [
    "response = agent_imposto.chat(\n",
    "    \"Qual é o imposto de renda devido para um rendimento anual de R$ 50000.00?\",\n",
    ")"
   ]
  },
  {
   "cell_type": "code",
   "execution_count": null,
   "id": "dd20f341",
   "metadata": {},
   "outputs": [],
   "source": [
    "def consulta_artigos(title: str) -> str:\n",
    "    \"\"\"\n",
    "    Consulta artigos na base dados ArXiv e retorna resultados formatados.\n",
    "    \"\"\"\n",
    "    # O arqiv é uma base de dados de artigos científicos\n",
    "    buscar = arxiv.Search(\n",
    "        query=title,\n",
    "        max_results=5,\n",
    "        sort_by=arxiv.SortCriterion.Relevance,\n",
    "    )\n",
    "\n",
    "    resultados = [\n",
    "        f\"Título: {artigo.title}\\n\"\n",
    "        f\"Categoria: {artigo.primary_category}\\n\"\n",
    "        f\"Link: {artigo.entry_id}\\n\"\n",
    "        for artigo in buscar.results()\n",
    "    ]\n",
    "\n",
    "    return \"\\n\\n\".join(resultados) if resultados else \"Nenhum artigo encontrado.\""
   ]
  },
  {
   "cell_type": "code",
   "execution_count": null,
   "id": "7870f90e",
   "metadata": {},
   "outputs": [],
   "source": [
    "consulta_artigos_tool = FunctionTool.from_defaults(\n",
    "    fn=consulta_artigos,\n",
    "    name=\"consulta_artigos\",\n",
    "    description=(\n",
    "        \"Consulta artigos na base de dados ArXiv com base no título fornecido. \"\n",
    "        \"Argumento: title (str) - Título do artigo a ser pesquisado. \"\n",
    "        \"Retorna uma lista formatada de artigos encontrados.\"\n",
    "    ),\n",
    ")"
   ]
  },
  {
   "cell_type": "code",
   "execution_count": null,
   "id": "0383ab4e",
   "metadata": {},
   "outputs": [],
   "source": [
    "agent_worker = FunctionCallingAgentWorker.from_tools(\n",
    "    llm=llm,\n",
    "    tools=[ferramenta_calculo_imposto, consulta_artigos_tool],\n",
    "    verbose=True,\n",
    "    # Desabilita chamadas paralelas de ferramentas, pois eu quero sequencialmente\n",
    "    allow_parallel_tool_calls=False,  \n",
    ")"
   ]
  },
  {
   "cell_type": "code",
   "execution_count": null,
   "id": "881f1cf3",
   "metadata": {},
   "outputs": [],
   "source": [
    "agent = AgentRunner(agent_worker)\n",
    "response2 = agent.chat(\n",
    "    \"Quais artigos existem sobre 'Machine Learning'?\",\n",
    ")"
   ]
  },
  {
   "cell_type": "code",
   "execution_count": null,
   "id": "3f6ec22b",
   "metadata": {},
   "outputs": [],
   "source": [
    "import os \n",
    "from dotenv import load_dotenv, find_dotenv\n",
    "\n",
    "load_dotenv(find_dotenv())\n",
    "tavily_api_key = os.environ.get(\"TAVILY_API_KEY\")\n"
   ]
  },
  {
   "cell_type": "code",
   "execution_count": null,
   "id": "93a65463",
   "metadata": {},
   "outputs": [],
   "source": [
    "\n",
    "from llama_index.tools.tavily_research import TavilyToolSpec\n",
    "\n",
    "tavily_tool = TavilyToolSpec(api_key=tavily_api_key) # type: ignore"
   ]
  },
  {
   "cell_type": "code",
   "execution_count": 65,
   "id": "f052e29a",
   "metadata": {},
   "outputs": [
    {
     "name": "stdout",
     "output_type": "stream",
     "text": [
      "search\n"
     ]
    }
   ],
   "source": [
    "tavily_tool_list = tavily_tool.to_tool_list()\n",
    "\n",
    "for tool in tavily_tool_list:\n",
    "    print(tool.metadata.name)"
   ]
  },
  {
   "cell_type": "code",
   "execution_count": 70,
   "id": "22eb052e",
   "metadata": {},
   "outputs": [
    {
     "data": {
      "text/plain": [
       "[Document(id_='ab0f530f-da01-474a-a6c5-c712ea554c74', embedding=None, metadata={'url': 'https://pmc.ncbi.nlm.nih.gov/articles/PMC8959062/'}, excluded_embed_metadata_keys=[], excluded_llm_metadata_keys=[], relationships={}, metadata_template='{key}: {value}', metadata_separator='\\n', text_resource=MediaResource(embeddings=None, data=None, text='Este artigo de revisão aborda uma introdução sobre ML dividida em: definição, modelos de aprendizagem e uma revisão sistemática de artigos sobre a sua', path=None, url=None, mimetype=None), image_resource=None, audio_resource=None, video_resource=None, text_template='{metadata_str}\\n\\n{content}'),\n",
       " Document(id_='dce4b9a4-5fa9-43f0-b0f4-d9ebb39c2445', embedding=None, metadata={'url': 'https://abccardiol.org/article/machine-learning-na-medicina-revisao-e-aplicabilidade/'}, excluded_embed_metadata_keys=[], excluded_llm_metadata_keys=[], relationships={}, metadata_template='{key}: {value}', metadata_separator='\\n', text_resource=MediaResource(embeddings=None, data=None, text='O aprendizado de máquina, ou machine learning (ML), é um ramo da inteligência artificial (IA) que explora o estudo e a construção de algoritmos', path=None, url=None, mimetype=None), image_resource=None, audio_resource=None, video_resource=None, text_template='{metadata_str}\\n\\n{content}'),\n",
       " Document(id_='b55b5d40-9bc2-4feb-95c2-06851259ca18', embedding=None, metadata={'url': 'https://www.nature.com/natmachintell/'}, excluded_embed_metadata_keys=[], excluded_llm_metadata_keys=[], relationships={}, metadata_template='{key}: {value}', metadata_separator='\\n', text_resource=MediaResource(embeddings=None, data=None, text='*   Atoosa Kasirzadeh\\n    \\n    Review Article17 Apr 2025\\n    \\n*   ### [A predictive machine learning force-field framework for liquid electrolyte development](https://www.nature.com/articles/s42256-025-01009-7)\\n    \\n    *   Sheng Gong\\n    *   Yumin Zhang\\n    *   Liang Xiang\\n    \\n    Article01 Apr 2025\\n    \\n*   ### [Active exploration and reconstruction of vascular networks using microrobot swarms](https://www.nature.com/articles/s42256-025-01012-y)\\n    \\n    *   Xingzhou Du [...] *   ### [Physical benchmarks for testing algorithms](https://www.nature.com/articles/s42256-025-00999-8)\\n        \\n        *   Jakob Zeitler\\n        \\n        News & Views20 Feb 2025\\n        \\n    *   ### [Rethinking machine unlearning for large language models](https://www.nature.com/articles/s42256-025-00985-0)\\n        \\n        *   Sijia Liu\\n        *   Yuanshun Yao\\n        *   Yang Liu\\n        \\n        Review Article17 Feb 2025 [...] *   Chao Huang\\n    *   Ming Li\\n    \\n    Article01 May 2025\\n    \\n*    ![Image 12](https://media.springernature.com/w290h158/springer-static/image/art%3A10.1038%2Fs42256-025-01026-6/MediaObjects/42256_2025_1026_Fig1_HTML.png)\\n    \\n    ### [Machine learning prediction of enzyme optimum pH](https://www.nature.com/articles/s42256-025-01026-6)', path=None, url=None, mimetype=None), image_resource=None, audio_resource=None, video_resource=None, text_template='{metadata_str}\\n\\n{content}')]"
      ]
     },
     "execution_count": 70,
     "metadata": {},
     "output_type": "execute_result"
    }
   ],
   "source": [
    "tavily_tool.search(\"Me retorne artigos sobre 'Machine Learning'\", max_results=3) "
   ]
  }
 ],
 "metadata": {
  "kernelspec": {
   "display_name": ".venv",
   "language": "python",
   "name": "python3"
  },
  "language_info": {
   "codemirror_mode": {
    "name": "ipython",
    "version": 3
   },
   "file_extension": ".py",
   "mimetype": "text/x-python",
   "name": "python",
   "nbconvert_exporter": "python",
   "pygments_lexer": "ipython3",
   "version": "3.12.2"
  }
 },
 "nbformat": 4,
 "nbformat_minor": 5
}
