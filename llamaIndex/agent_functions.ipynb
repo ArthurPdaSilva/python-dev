{
 "cells": [
  {
   "cell_type": "code",
   "execution_count": null,
   "id": "cb0b786b",
   "metadata": {},
   "outputs": [],
   "source": [
    "from llama_index.core import SimpleDirectoryReader, VectorStoreIndex, Settings\n",
    "from llama_index.llms.groq import Groq\n",
    "from llama_index.core.tools import FunctionTool\n",
    "from llama_index.core.agent import FunctionCallingAgentWorker, AgentRunner\n",
    "import arxiv\n",
    "import os "
   ]
  },
  {
   "cell_type": "code",
   "execution_count": null,
   "id": "c4f51eaa",
   "metadata": {},
   "outputs": [],
   "source": [
    "llm = Groq(\n",
    "    model=\"llama-3.3-70b-versatile\",\n",
    "    api_key=os.environ.get(\"GROQ_API_KEY\"),\n",
    ")"
   ]
  },
  {
   "cell_type": "code",
   "execution_count": null,
   "id": "8235294e",
   "metadata": {},
   "outputs": [],
   "source": [
    "def calcular_imposto_renda(rendimento: float) -> str:\n",
    "    if rendimento <= 22847.76:\n",
    "        return \"Isento de Imposto de Renda\"\n",
    "    elif rendimento <= 33919.80:\n",
    "        imposto = (rendimento - 22847.76) * 0.075\n",
    "    elif rendimento <= 45012.60:\n",
    "        imposto = (rendimento - 33919.80) * 0.15 + 826.29\n",
    "    elif rendimento <= 55976.16:\n",
    "        imposto = (rendimento - 45012.60) * 0.225 + 1428.14\n",
    "    else:\n",
    "        imposto = (rendimento - 55976.16) * 0.275 + 2203.91\n",
    "\n",
    "    return f\"Imposto de Renda devido: R$ {imposto:.2f}\""
   ]
  },
  {
   "cell_type": "code",
   "execution_count": null,
   "id": "d7d56ec4",
   "metadata": {},
   "outputs": [],
   "source": [
    "ferramenta_calculo_imposto = FunctionTool.from_defaults(\n",
    "    fn=calcular_imposto_renda,\n",
    "    name=\"calcular_imposto_renda\",\n",
    "    description=(\n",
    "        \"Calcula o Imposto de Renda devido com base no rendimento anual. \"\n",
    "        \"Argumento: rendimento (float) - Rendimento anual em reais. \"\n",
    "        \"Retorna uma mensagem indicando se é isento ou o valor do imposto a pagar.\"\n",
    "    ),\n",
    "\n",
    ")"
   ]
  },
  {
   "cell_type": "code",
   "execution_count": null,
   "id": "b765700b",
   "metadata": {},
   "outputs": [],
   "source": [
    "agent_worker_imposto = FunctionCallingAgentWorker.from_tools(\n",
    "    llm=llm,\n",
    "    tools=[ferramenta_calculo_imposto],\n",
    "    verbose=True,\n",
    "    allow_parallel_tool_calls=True, # Permite chamadas paralelas de ferramentas\n",
    ")"
   ]
  },
  {
   "cell_type": "code",
   "execution_count": null,
   "id": "0c24ac58",
   "metadata": {},
   "outputs": [],
   "source": [
    "agent_imposto = AgentRunner(agent_worker_imposto)\n"
   ]
  },
  {
   "cell_type": "code",
   "execution_count": null,
   "id": "a35c73d5",
   "metadata": {},
   "outputs": [],
   "source": [
    "response = agent_imposto.chat(\n",
    "    \"Qual é o imposto de renda devido para um rendimento anual de R$ 50000.00?\",\n",
    ")"
   ]
  },
  {
   "cell_type": "code",
   "execution_count": null,
   "id": "dd20f341",
   "metadata": {},
   "outputs": [],
   "source": [
    "def consulta_artigos(title: str) -> str:\n",
    "    \"\"\"\n",
    "    Consulta artigos na base dados ArXiv e retorna resultados formatados.\n",
    "    \"\"\"\n",
    "    # O arqiv é uma base de dados de artigos científicos\n",
    "    buscar = arxiv.Search(\n",
    "        query=title,\n",
    "        max_results=5,\n",
    "        sort_by=arxiv.SortCriterion.Relevance,\n",
    "    )\n",
    "\n",
    "    resultados = [\n",
    "        f\"Título: {artigo.title}\\n\"\n",
    "        f\"Categoria: {artigo.primary_category}\\n\"\n",
    "        f\"Link: {artigo.entry_id}\\n\"\n",
    "        for artigo in buscar.results()\n",
    "    ]\n",
    "\n",
    "    return \"\\n\\n\".join(resultados) if resultados else \"Nenhum artigo encontrado.\""
   ]
  },
  {
   "cell_type": "code",
   "execution_count": null,
   "id": "7870f90e",
   "metadata": {},
   "outputs": [],
   "source": [
    "consulta_artigos_tool = FunctionTool.from_defaults(\n",
    "    fn=consulta_artigos,\n",
    "    name=\"consulta_artigos\",\n",
    "    description=(\n",
    "        \"Consulta artigos na base de dados ArXiv com base no título fornecido. \"\n",
    "        \"Argumento: title (str) - Título do artigo a ser pesquisado. \"\n",
    "        \"Retorna uma lista formatada de artigos encontrados.\"\n",
    "    ),\n",
    ")"
   ]
  },
  {
   "cell_type": "code",
   "execution_count": null,
   "id": "0383ab4e",
   "metadata": {},
   "outputs": [],
   "source": [
    "agent_worker = FunctionCallingAgentWorker.from_tools(\n",
    "    llm=llm,\n",
    "    tools=[ferramenta_calculo_imposto, consulta_artigos_tool],\n",
    "    verbose=True,\n",
    "    # Desabilita chamadas paralelas de ferramentas, pois eu quero sequencialmente\n",
    "    allow_parallel_tool_calls=False,  \n",
    ")"
   ]
  },
  {
   "cell_type": "code",
   "execution_count": null,
   "id": "881f1cf3",
   "metadata": {},
   "outputs": [],
   "source": [
    "agent = AgentRunner(agent_worker)\n",
    "response2 = agent.chat(\n",
    "    \"Quais artigos existem sobre 'Machine Learning'?\",\n",
    ")"
   ]
  },
  {
   "cell_type": "markdown",
   "id": "e954ac58",
   "metadata": {},
   "source": [
    "UTILIZANDO O TAVILY"
   ]
  },
  {
   "cell_type": "code",
   "execution_count": null,
   "id": "3f6ec22b",
   "metadata": {},
   "outputs": [],
   "source": [
    "import os \n",
    "from dotenv import load_dotenv, find_dotenv\n",
    "\n",
    "load_dotenv(find_dotenv())\n",
    "tavily_api_key = os.environ.get(\"TAVILY_API_KEY\")\n"
   ]
  },
  {
   "cell_type": "code",
   "execution_count": null,
   "id": "93a65463",
   "metadata": {},
   "outputs": [],
   "source": [
    "\n",
    "from llama_index.tools.tavily_research import TavilyToolSpec\n",
    "\n",
    "tavily_tool = TavilyToolSpec(api_key=tavily_api_key) # type: ignore"
   ]
  },
  {
   "cell_type": "code",
   "execution_count": null,
   "id": "f052e29a",
   "metadata": {},
   "outputs": [],
   "source": [
    "tavily_tool_list = tavily_tool.to_tool_list()\n",
    "\n",
    "for tool in tavily_tool_list:\n",
    "    print(tool.metadata.name)"
   ]
  },
  {
   "cell_type": "code",
   "execution_count": null,
   "id": "22eb052e",
   "metadata": {},
   "outputs": [],
   "source": [
    "tavily_tool.search(\"Me retorne artigos sobre 'Machine Learning'\", max_results=3) "
   ]
  },
  {
   "cell_type": "code",
   "execution_count": null,
   "id": "c9b6865c",
   "metadata": {},
   "outputs": [],
   "source": [
    "tavily_tool_function = FunctionTool.from_defaults(\n",
    "    fn=tavily_tool.search,\n",
    "    name=\"tavily_search\",\n",
    "    description=(\n",
    "        \"Busca artigos e informações na web usando a API Tavily. \"\n",
    "        \"Argumento: query (str) - Termo de pesquisa. \"\n",
    "        \"Retorna uma lista de resultados relevantes.\"\n",
    "    ),\n",
    ")"
   ]
  },
  {
   "cell_type": "code",
   "execution_count": null,
   "id": "4f5016b5",
   "metadata": {},
   "outputs": [],
   "source": [
    "agent_woker = FunctionCallingAgentWorker.from_tools(\n",
    "    llm=llm,\n",
    "    tools=[tavily_tool_function],\n",
    "    verbose=True,\n",
    "    allow_parallel_tool_calls=False,  \n",
    ")"
   ]
  },
  {
   "cell_type": "code",
   "execution_count": null,
   "id": "0ae2ab06",
   "metadata": {},
   "outputs": [],
   "source": [
    "agent = AgentRunner(agent_woker)\n",
    "response3 = agent.chat(\n",
    "    \"Me retorne artigos sobre 'Machine Learning'\",\n",
    "\n",
    ")"
   ]
  },
  {
   "cell_type": "code",
   "execution_count": null,
   "id": "f6ba6fa0",
   "metadata": {},
   "outputs": [],
   "source": [
    "url = \"files/LLM.pdf\"\n",
    "artigo = SimpleDirectoryReader(input_files=[url]).load_data() "
   ]
  },
  {
   "cell_type": "code",
   "execution_count": null,
   "id": "7af69d70",
   "metadata": {},
   "outputs": [],
   "source": [
    "url = \"files/LLM_2.pdf\"\n",
    "tutorial = SimpleDirectoryReader(input_files=[url]).load_data() "
   ]
  },
  {
   "cell_type": "markdown",
   "id": "819c57b9",
   "metadata": {},
   "source": [
    "GERAR OS EMBEDDINGS"
   ]
  },
  {
   "cell_type": "code",
   "execution_count": null,
   "id": "ddc91d58",
   "metadata": {},
   "outputs": [],
   "source": [
    "from llama_index.embeddings.huggingface import HuggingFaceEmbedding\n",
    "from llama_index.core import VectorStoreIndex, Settings\n",
    "\n",
    "Settings.embed_model = HuggingFaceEmbedding(\n",
    "    model_name = \"intfloat/multilingual-e5-large\"\n",
    ")\n",
    "\n",
    "artigo_index = VectorStoreIndex.from_documents(\n",
    "    artigo,\n",
    "    embed_model=Settings.embed_model,\n",
    ")\n",
    "\n",
    "tutorial_index = VectorStoreIndex.from_documents(\n",
    "    tutorial,\n",
    "    embed_model=Settings.embed_model,\n",
    ")"
   ]
  },
  {
   "cell_type": "code",
   "execution_count": null,
   "id": "6dfff7a9",
   "metadata": {},
   "outputs": [],
   "source": [
    "artigo_index.storage_context.persist(\n",
    "    persist_dir=\"artigo\",\n",
    ")\n",
    "\n",
    "tutorial_index.storage_context.persist(\n",
    "    persist_dir=\"tutorial\",\n",
    ")"
   ]
  },
  {
   "cell_type": "markdown",
   "id": "cc409656",
   "metadata": {},
   "source": [
    "ENGINE DE BUSCA"
   ]
  },
  {
   "cell_type": "code",
   "execution_count": null,
   "id": "7fd42c27",
   "metadata": {},
   "outputs": [],
   "source": [
    "from llama_index.core import StorageContext, load_index_from_storage\n",
    "storagte_context = StorageContext.from_defaults(\n",
    "    persist_dir=\"artigo\",\n",
    ")\n",
    "\n",
    "artigo_index = load_index_from_storage(\n",
    "    storage_context=storagte_context,\n",
    ")\n",
    "\n",
    "tutorial_storage_context = StorageContext.from_defaults(\n",
    "    persist_dir=\"tutorial\",\n",
    ")\n",
    "\n",
    "tutorial_index = load_index_from_storage(\n",
    "    storage_context=tutorial_storage_context,\n",
    ")"
   ]
  },
  {
   "cell_type": "code",
   "execution_count": null,
   "id": "6b04454b",
   "metadata": {},
   "outputs": [],
   "source": [
    "artigo_engine = artigo_index.as_query_engine(\n",
    "    similarity_top_k=3, llm=llm,\n",
    ")\n",
    "\n",
    "tutorial_engine = tutorial_index.as_query_engine(\n",
    "    similarity_top_k=3, llm=llm,\n",
    ")"
   ]
  },
  {
   "cell_type": "code",
   "execution_count": null,
   "id": "15b44ace",
   "metadata": {},
   "outputs": [],
   "source": [
    "from llama_index.core.tools import QueryEngineTool, ToolMetadata\n",
    "\n",
    "query_engine_tools = [\n",
    "    QueryEngineTool(\n",
    "        query_engine=artigo_engine,\n",
    "        metadata=ToolMetadata(\n",
    "            name=\"artigo_engine\",\n",
    "            description=(\n",
    "                \"Fornece informações sobre LLM e LangChain.\"\n",
    "                \"Use uma pergunta detalhada em texto simples como entrada para a ferramenta\"\n",
    "            )\n",
    "        )\n",
    "    ),\n",
    "    QueryEngineTool(\n",
    "        query_engine=tutorial_engine,\n",
    "        metadata=ToolMetadata(\n",
    "            name=\"tutorial_engine\",\n",
    "            description=(\n",
    "                \"Fornece informações sobre casos de uso e aplicações em LLMs.\"\n",
    "                \"Use uma pergunta detalhada em texto simples como entrada para a ferramenta\"\n",
    "            )\n",
    "        )\n",
    "    ),\n",
    "]"
   ]
  },
  {
   "cell_type": "code",
   "execution_count": 8,
   "id": "5457eba6",
   "metadata": {},
   "outputs": [
    {
     "ename": "NameError",
     "evalue": "name 'FunctionCallingAgentWorker' is not defined",
     "output_type": "error",
     "traceback": [
      "\u001b[31m---------------------------------------------------------------------------\u001b[39m",
      "\u001b[31mNameError\u001b[39m                                 Traceback (most recent call last)",
      "\u001b[36mCell\u001b[39m\u001b[36m \u001b[39m\u001b[32mIn[8]\u001b[39m\u001b[32m, line 1\u001b[39m\n\u001b[32m----> \u001b[39m\u001b[32m1\u001b[39m agent_worker = \u001b[43mFunctionCallingAgentWorker\u001b[49m.from_tools(\n\u001b[32m      2\u001b[39m     query_engine_tools, \u001b[38;5;66;03m# type: ignore\u001b[39;00m\n\u001b[32m      3\u001b[39m     verbose=\u001b[38;5;28;01mTrue\u001b[39;00m,\n\u001b[32m      4\u001b[39m     allow_parallel_tool_calls=\u001b[38;5;28;01mTrue\u001b[39;00m,\n\u001b[32m      5\u001b[39m     llm=llm\n\u001b[32m      6\u001b[39m )\n\u001b[32m      8\u001b[39m agent_document = AgentRunner(agent_worker)\n",
      "\u001b[31mNameError\u001b[39m: name 'FunctionCallingAgentWorker' is not defined"
     ]
    }
   ],
   "source": [
    "agent_worker = FunctionCallingAgentWorker.from_tools(\n",
    "    query_engine_tools, # type: ignore\n",
    "    verbose=True,\n",
    "    allow_parallel_tool_calls=True,\n",
    "    llm=llm\n",
    ")\n",
    "\n",
    "agent_document = AgentRunner(agent_worker)"
   ]
  },
  {
   "cell_type": "code",
   "execution_count": null,
   "id": "7144a5b6",
   "metadata": {},
   "outputs": [],
   "source": [
    "response = agent_document.chat(\n",
    "    \"Quais as principais aplicações posso construir com LLM e LangChain?\"\n",
    ")"
   ]
  },
  {
   "cell_type": "code",
   "execution_count": null,
   "id": "23eb0401",
   "metadata": {},
   "outputs": [],
   "source": [
    "response = agent_document.chat(\n",
    "    \"Quais são os casos de uso e aplicações de LLMs?\",\n",
    ")"
   ]
  },
  {
   "cell_type": "markdown",
   "id": "a14d07e5",
   "metadata": {},
   "source": [
    "AGENT ReAct"
   ]
  },
  {
   "cell_type": "code",
   "execution_count": 6,
   "id": "29d4e88e",
   "metadata": {},
   "outputs": [
    {
     "ename": "NameError",
     "evalue": "name 'query_engine_tools' is not defined",
     "output_type": "error",
     "traceback": [
      "\u001b[31m---------------------------------------------------------------------------\u001b[39m",
      "\u001b[31mNameError\u001b[39m                                 Traceback (most recent call last)",
      "\u001b[36mCell\u001b[39m\u001b[36m \u001b[39m\u001b[32mIn[6]\u001b[39m\u001b[32m, line 4\u001b[39m\n\u001b[32m      1\u001b[39m \u001b[38;5;28;01mfrom\u001b[39;00m\u001b[38;5;250m \u001b[39m\u001b[34;01mllama_index\u001b[39;00m\u001b[34;01m.\u001b[39;00m\u001b[34;01mcore\u001b[39;00m\u001b[34;01m.\u001b[39;00m\u001b[34;01magent\u001b[39;00m\u001b[38;5;250m \u001b[39m\u001b[38;5;28;01mimport\u001b[39;00m ReActAgent\n\u001b[32m      3\u001b[39m agent = ReActAgent.from_tools(\n\u001b[32m----> \u001b[39m\u001b[32m4\u001b[39m     \u001b[43mquery_engine_tools\u001b[49m,  \u001b[38;5;66;03m# type: ignore\u001b[39;00m\n\u001b[32m      5\u001b[39m     verbose=\u001b[38;5;28;01mTrue\u001b[39;00m,\n\u001b[32m      6\u001b[39m     llm=llm,\n\u001b[32m      7\u001b[39m )\n\u001b[32m      9\u001b[39m response = agent.chat(\n\u001b[32m     10\u001b[39m     \u001b[33m\"\u001b[39m\u001b[33mQuais são os casos de uso e aplicações de LLMs?\u001b[39m\u001b[33m\"\u001b[39m,\n\u001b[32m     11\u001b[39m )\n",
      "\u001b[31mNameError\u001b[39m: name 'query_engine_tools' is not defined"
     ]
    }
   ],
   "source": [
    "from llama_index.core.agent import ReActAgent\n",
    "\n",
    "agent = ReActAgent.from_tools(\n",
    "    query_engine_tools,  # type: ignore\n",
    "    verbose=True,\n",
    "    llm=llm,\n",
    ")\n",
    "\n",
    "response = agent.chat(\n",
    "    \"Quais são os casos de uso e aplicações de LLMs?\",\n",
    ")"
   ]
  }
 ],
 "metadata": {
  "kernelspec": {
   "display_name": ".venv",
   "language": "python",
   "name": "python3"
  },
  "language_info": {
   "codemirror_mode": {
    "name": "ipython",
    "version": 3
   },
   "file_extension": ".py",
   "mimetype": "text/x-python",
   "name": "python",
   "nbconvert_exporter": "python",
   "pygments_lexer": "ipython3",
   "version": "3.12.2"
  }
 },
 "nbformat": 4,
 "nbformat_minor": 5
}
