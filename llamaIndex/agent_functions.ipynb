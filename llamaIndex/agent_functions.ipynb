{
 "cells": [
  {
   "cell_type": "code",
   "execution_count": null,
   "id": "cb0b786b",
   "metadata": {},
   "outputs": [],
   "source": [
    "from llama_index.core import Settings \n",
    "from llama_index.llms.groq import Groq\n",
    "from llama_index.core.tools import FunctionTool\n",
    "from llama_index.core.agent import FunctionCallingAgentWorker\n",
    "import os "
   ]
  },
  {
   "cell_type": "code",
   "execution_count": 23,
   "id": "c4f51eaa",
   "metadata": {},
   "outputs": [],
   "source": [
    "llm = Groq(\n",
    "    model=\"llama-3.3-70b-versatile\",\n",
    "    api_key=os.environ.get(\"GROQ_API_KEY\"),\n",
    ")"
   ]
  },
  {
   "cell_type": "code",
   "execution_count": 25,
   "id": "8235294e",
   "metadata": {},
   "outputs": [],
   "source": [
    "def calcular_imposto_renda(rendimento: float) -> str:\n",
    "    if rendimento <= 22847.76:\n",
    "        return \"Isento de Imposto de Renda\"\n",
    "    elif rendimento <= 33919.80:\n",
    "        imposto = (rendimento - 22847.76) * 0.075\n",
    "    elif rendimento <= 45012.60:\n",
    "        imposto = (rendimento - 33919.80) * 0.15 + 826.29\n",
    "    elif rendimento <= 55976.16:\n",
    "        imposto = (rendimento - 45012.60) * 0.225 + 1428.14\n",
    "    else:\n",
    "        imposto = (rendimento - 55976.16) * 0.275 + 2203.91\n",
    "\n",
    "    return f\"Imposto de Renda devido: R$ {imposto:.2f}\""
   ]
  },
  {
   "cell_type": "code",
   "execution_count": 26,
   "id": "d7d56ec4",
   "metadata": {},
   "outputs": [],
   "source": [
    "ferramenta_calculo_imposto = FunctionTool.from_defaults(\n",
    "    fn=calcular_imposto_renda,\n",
    "    name=\"calcular_imposto_renda\",\n",
    "    description=(\n",
    "        \"Calcula o Imposto de Renda devido com base no rendimento anual. \"\n",
    "        \"Argumento: rendimento (float) - Rendimento anual em reais. \"\n",
    "        \"Retorna uma mensagem indicando se é isento ou o valor do imposto a pagar.\"\n",
    "    ),\n",
    "\n",
    ")"
   ]
  },
  {
   "cell_type": "code",
   "execution_count": null,
   "id": "b765700b",
   "metadata": {},
   "outputs": [],
   "source": [
    "agent_worker_imposto = FunctionCallingAgentWorker.from_tools(\n",
    "    llm=llm,\n",
    "    tools=[ferramenta_calculo_imposto],\n",
    "    verbose=True,\n",
    "    allow_parallel_tool_calls=True, # Permite chamadas paralelas de ferramentas\n",
    ")"
   ]
  }
 ],
 "metadata": {
  "kernelspec": {
   "display_name": ".venv",
   "language": "python",
   "name": "python3"
  },
  "language_info": {
   "codemirror_mode": {
    "name": "ipython",
    "version": 3
   },
   "file_extension": ".py",
   "mimetype": "text/x-python",
   "name": "python",
   "nbconvert_exporter": "python",
   "pygments_lexer": "ipython3",
   "version": "3.12.2"
  }
 },
 "nbformat": 4,
 "nbformat_minor": 5
}
