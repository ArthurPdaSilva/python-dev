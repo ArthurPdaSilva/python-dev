{
 "cells": [
  {
   "cell_type": "code",
   "execution_count": null,
   "id": "cb0b786b",
   "metadata": {},
   "outputs": [],
   "source": [
    "from llama_index.core import Settings \n",
    "from llama_index.llms.groq import Groq\n",
    "from llama_index.core.tools import FunctionTool\n",
    "from llama_index.core.agent import FunctionCallingAgentWorker, AgentRunner\n",
    "import os "
   ]
  },
  {
   "cell_type": "code",
   "execution_count": 23,
   "id": "c4f51eaa",
   "metadata": {},
   "outputs": [],
   "source": [
    "llm = Groq(\n",
    "    model=\"llama-3.3-70b-versatile\",\n",
    "    api_key=os.environ.get(\"GROQ_API_KEY\"),\n",
    ")"
   ]
  },
  {
   "cell_type": "code",
   "execution_count": 25,
   "id": "8235294e",
   "metadata": {},
   "outputs": [],
   "source": [
    "def calcular_imposto_renda(rendimento: float) -> str:\n",
    "    if rendimento <= 22847.76:\n",
    "        return \"Isento de Imposto de Renda\"\n",
    "    elif rendimento <= 33919.80:\n",
    "        imposto = (rendimento - 22847.76) * 0.075\n",
    "    elif rendimento <= 45012.60:\n",
    "        imposto = (rendimento - 33919.80) * 0.15 + 826.29\n",
    "    elif rendimento <= 55976.16:\n",
    "        imposto = (rendimento - 45012.60) * 0.225 + 1428.14\n",
    "    else:\n",
    "        imposto = (rendimento - 55976.16) * 0.275 + 2203.91\n",
    "\n",
    "    return f\"Imposto de Renda devido: R$ {imposto:.2f}\""
   ]
  },
  {
   "cell_type": "code",
   "execution_count": 26,
   "id": "d7d56ec4",
   "metadata": {},
   "outputs": [],
   "source": [
    "ferramenta_calculo_imposto = FunctionTool.from_defaults(\n",
    "    fn=calcular_imposto_renda,\n",
    "    name=\"calcular_imposto_renda\",\n",
    "    description=(\n",
    "        \"Calcula o Imposto de Renda devido com base no rendimento anual. \"\n",
    "        \"Argumento: rendimento (float) - Rendimento anual em reais. \"\n",
    "        \"Retorna uma mensagem indicando se é isento ou o valor do imposto a pagar.\"\n",
    "    ),\n",
    "\n",
    ")"
   ]
  },
  {
   "cell_type": "code",
   "execution_count": null,
   "id": "b765700b",
   "metadata": {},
   "outputs": [],
   "source": [
    "agent_worker_imposto = FunctionCallingAgentWorker.from_tools(\n",
    "    llm=llm,\n",
    "    tools=[ferramenta_calculo_imposto],\n",
    "    verbose=True,\n",
    "    allow_parallel_tool_calls=True, # Permite chamadas paralelas de ferramentas\n",
    ")"
   ]
  },
  {
   "cell_type": "code",
   "execution_count": null,
   "id": "0c24ac58",
   "metadata": {},
   "outputs": [],
   "source": [
    "agent_imposto = AgentRunner(agent_worker_imposto)\n"
   ]
  },
  {
   "cell_type": "code",
   "execution_count": null,
   "id": "a35c73d5",
   "metadata": {},
   "outputs": [],
   "source": [
    "response = agent_imposto.chat(\n",
    "    \"Qual é o imposto de renda devido para um rendimento anual de R$ 50000.00?\",\n",
    ")"
   ]
  },
  {
   "cell_type": "code",
   "execution_count": null,
   "id": "dd20f341",
   "metadata": {},
   "outputs": [],
   "source": [
    "import arxiv\n",
    "def consulta_artigos(title: str) -> str:\n",
    "    \"\"\"\n",
    "    Consulta artigos na base dados ArXiv e retorna resultados formatados.\n",
    "    \"\"\"\n",
    "\n",
    "    # O arqiv é uma base de dados de artigos científicos\n",
    "    buscar = arxiv.Search(\n",
    "        query=title,\n",
    "        max_results=5,\n",
    "        sort_by=arxiv.SortCriterion.Relevance,\n",
    "    )\n",
    "\n",
    "    reulstados = [\n",
    "        f\"Título: {artigo.title}\\n\"\n",
    "        f\"Categoria: {artigo.primary_category}\\n\"\n",
    "        f\"Link: {artigo.entry_id}\\n\"\n",
    "        for artigo in buscar.results()\n",
    "    ]\n",
    "\n",
    "    return \"\\n\\n\".join(reulstados) if reulstados else \"Nenhum artigo encontrado.\""
   ]
  },
  {
   "cell_type": "code",
   "execution_count": 52,
   "id": "7870f90e",
   "metadata": {},
   "outputs": [],
   "source": [
    "consulta_artigos_tool = FunctionTool.from_defaults(\n",
    "    fn=consulta_artigos,\n",
    "    name=\"consulta_artigos\",\n",
    "    description=(\n",
    "        \"Consulta artigos na base de dados ArXiv com base no título fornecido. \"\n",
    "        \"Argumento: title (str) - Título do artigo a ser pesquisado. \"\n",
    "        \"Retorna uma lista formatada de artigos encontrados.\"\n",
    "    ),\n",
    ")"
   ]
  },
  {
   "cell_type": "code",
   "execution_count": null,
   "id": "0383ab4e",
   "metadata": {},
   "outputs": [],
   "source": [
    "agent_worker = FunctionCallingAgentWorker.from_tools(\n",
    "    llm=llm,\n",
    "    tools=[ferramenta_calculo_imposto, consulta_artigos_tool],\n",
    "    verbose=True,\n",
    "    # Desabilita chamadas paralelas de ferramentas, pois eu quero sequencialmente\n",
    "    allow_parallel_tool_calls=False,  \n",
    ")"
   ]
  },
  {
   "cell_type": "code",
   "execution_count": 56,
   "id": "881f1cf3",
   "metadata": {},
   "outputs": [
    {
     "name": "stdout",
     "output_type": "stream",
     "text": [
      "Added user message to memory: Quais artigos existem sobre 'Machine Learning'?\n",
      "=== Calling Function ===\n",
      "Calling function: consulta_artigos with args: {\"title\": \"Machine Learning\"}\n",
      "=== Function Output ===\n",
      "Encountered error: name 'arxiv' is not defined\n",
      "=== Calling Function ===\n",
      "Calling function: consulta_artigos with args: {\"title\": \"Machine Learning\"}\n",
      "=== Function Output ===\n",
      "Encountered error: name 'arxiv' is not defined\n",
      "=== Calling Function ===\n",
      "Calling function: consulta_artigos with args: {\"title\": \"Machine Learning\"}\n",
      "=== Function Output ===\n",
      "Encountered error: name 'arxiv' is not defined\n",
      "=== Calling Function ===\n",
      "Calling function: consulta_artigos with args: {\"title\": \"Machine Learning\"}\n",
      "=== Function Output ===\n",
      "Encountered error: name 'arxiv' is not defined\n",
      "=== Calling Function ===\n",
      "Calling function: consulta_artigos with args: {\"title\": \"Machine Learning\"}\n",
      "=== Function Output ===\n",
      "Encountered error: name 'arxiv' is not defined\n"
     ]
    }
   ],
   "source": [
    "agent = AgentRunner(agent_worker)\n",
    "response2 = agent.chat(\n",
    "    \"Quais artigos existem sobre 'Machine Learning'?\",\n",
    ")"
   ]
  }
 ],
 "metadata": {
  "kernelspec": {
   "display_name": ".venv",
   "language": "python",
   "name": "python3"
  },
  "language_info": {
   "codemirror_mode": {
    "name": "ipython",
    "version": 3
   },
   "file_extension": ".py",
   "mimetype": "text/x-python",
   "name": "python",
   "nbconvert_exporter": "python",
   "pygments_lexer": "ipython3",
   "version": "3.12.2"
  }
 },
 "nbformat": 4,
 "nbformat_minor": 5
}
