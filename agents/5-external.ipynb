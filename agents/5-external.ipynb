{
 "cells": [
  {
   "cell_type": "code",
   "execution_count": 8,
   "id": "3040ea3c",
   "metadata": {},
   "outputs": [
    {
     "name": "stdout",
     "output_type": "stream",
     "text": [
      "Bom, meu amigo, tanto Ronaldinho Gaúcho quanto Messi foram grandes jogadores, cada um com seu estilo e suas qualidades. Vamos dar uma olhada nos números para tentar te ajudar nessa comparação. Vou fazer uma pesquisa rápida para trazer algumas informações sobre os dois. Só um instante, vou retornar com os dados.\n"
     ]
    }
   ],
   "source": [
    "import wikipedia\n",
    "from langchain.tools import tool\n",
    "from langchain.prompts import ChatPromptTemplate\n",
    "from langchain_openai import ChatOpenAI\n",
    "from langchain_core.utils.function_calling import convert_to_openai_function\n",
    "from langchain_core.output_parsers import StrOutputParser\n",
    "\n",
    "wikipedia.set_lang(\"pt\")\n",
    "\n",
    "@tool\n",
    "def search_wikipedia(query: str) -> str:\n",
    "    \"\"\"\n",
    "    Search Wikipedia in Portuguese for the given query and return the summary of the first result.\n",
    "    \n",
    "    Args:\n",
    "        query (str): The search term to look up on Wikipedia.\n",
    "    \n",
    "    Returns:\n",
    "        str: A summary of the first search result from Wikipedia.\n",
    "    \"\"\"\n",
    "    titulo_paginas = wikipedia.search(query)\n",
    "    resumos = []\n",
    "    for titulo in titulo_paginas[:3]:  # Limiting to the first 3 results\n",
    "        try:\n",
    "            pagina = wikipedia.page(titulo, auto_suggest=True)\n",
    "            resumos.append(f\"{titulo}: {pagina.summary}\")\n",
    "        except wikipedia.exceptions.DisambiguationError as e:\n",
    "            # If there's a disambiguation page, we can skip it or handle it differently\n",
    "            continue\n",
    "        except wikipedia.exceptions.PageError as e:\n",
    "            # If the page does not exist, we can skip it\n",
    "            continue\n",
    "    if not resumos:\n",
    "        return \"Nenhum resultado encontrado.\"\n",
    "    return \"\\n\".join(resumos)\n",
    "\n",
    "search_wikipedia.invoke({\"query\": \"Python (programming language)\"}) # type: ignore\n",
    "function = convert_to_openai_function(search_wikipedia)\n",
    "\n",
    "prompt = ChatPromptTemplate.from_messages(\n",
    "    [\n",
    "        (\"system\", \"Você é um assistente que sabe sobre futebol e fala com sotaque nordestino\"),\n",
    "        (\"user\", \"{query}\"),\n",
    "    ]\n",
    ")\n",
    "\n",
    "model = ChatOpenAI(model=\"gpt-3.5-turbo-0125\")\n",
    "\n",
    "chain = prompt | model.bind(functions=[function], function_call=\"auto\") | StrOutputParser()\n",
    "response = chain.invoke({\"query\": \"Quem foi melhor Ronaldinho Gaúcho ou Messi? Em números\"})  \n",
    "print(response)"
   ]
  }
 ],
 "metadata": {
  "kernelspec": {
   "display_name": ".venv",
   "language": "python",
   "name": "python3"
  },
  "language_info": {
   "codemirror_mode": {
    "name": "ipython",
    "version": 3
   },
   "file_extension": ".py",
   "mimetype": "text/x-python",
   "name": "python",
   "nbconvert_exporter": "python",
   "pygments_lexer": "ipython3",
   "version": "3.12.2"
  }
 },
 "nbformat": 4,
 "nbformat_minor": 5
}
