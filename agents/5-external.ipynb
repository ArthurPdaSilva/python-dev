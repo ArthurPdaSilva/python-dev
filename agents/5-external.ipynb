{
 "cells": [
  {
   "cell_type": "code",
   "execution_count": null,
   "id": "3040ea3c",
   "metadata": {},
   "outputs": [
    {
     "name": "stdout",
     "output_type": "stream",
     "text": [
      "content='Ih, meu amigo, essa é uma pergunta difícil de responder só com números, viu? Mas vou tentar te ajudar com algumas estatísticas dos dois craques.\\n\\nRonaldinho Gaúcho foi um jogador espetacular, conhecido por sua habilidade, dribles e criatividade em campo. Durante sua carreira, ele conquistou diversos títulos, incluindo a Copa do Mundo de 2002 com a seleção brasileira, a Liga dos Campeões da UEFA com o Barcelona e o prêmio de Melhor Jogador do Mundo pela FIFA em 2004 e 2005.\\n\\nJá Messi, o \"La Pulga\", é considerado por muitos como um dos maiores jogadores de todos os tempos. Ele também conquistou inúmeros títulos, incluindo várias Bolas de Ouro da FIFA, títulos da Liga dos Campeões da UEFA e muitos recordes de gols.\\n\\nEm termos de números, Messi tem uma incrível média de gols por jogo, muito acima da média de outros jogadores. Ele também tem um número impressionante de assistências e uma consistência incrível ao longo de sua carreira.\\n\\nPor outro lado, Ronaldinho Gaúcho era conhecido por sua genialidade e por fazer jogadas que deixavam os adversários de queixo caído. Ele tinha uma capacidade única de improvisar e criar momentos mágicos dentro de campo.\\n\\nEntão, meu amigo, ambos são jogadores extraordinários, cada um com suas próprias qualidades e estilos de jogo. É difícil dizer quem foi o melhor só olhando para os números, pois o futebol vai muito além disso. Mas com certeza, tanto Ronaldinho Gaúcho quanto Messi deixaram sua marca na história do futebol mundial.' response_metadata={'token_usage': {'completion_tokens': 397, 'prompt_tokens': 137, 'total_tokens': 534, 'completion_tokens_details': {'accepted_prediction_tokens': 0, 'audio_tokens': 0, 'reasoning_tokens': 0, 'rejected_prediction_tokens': 0}, 'prompt_tokens_details': {'audio_tokens': 0, 'cached_tokens': 0}}, 'model_name': 'gpt-3.5-turbo-0125', 'system_fingerprint': None, 'finish_reason': 'stop', 'logprobs': None} id='run-2003d542-eecc-4dc6-ad39-4321dfc9fa7b-0'\n"
     ]
    }
   ],
   "source": [
    "import wikipedia\n",
    "from langchain.tools import tool\n",
    "from langchain.prompts import ChatPromptTemplate\n",
    "from langchain_openai import ChatOpenAI\n",
    "from langchain_core.utils.function_calling import convert_to_openai_function\n",
    "from langchain_core.output_parsers import StrOutputParser\n",
    "\n",
    "wikipedia.set_lang(\"pt\")\n",
    "\n",
    "@tool\n",
    "def search_wikipedia(query: str) -> str:\n",
    "    \"\"\"\n",
    "    Search Wikipedia in Portuguese for the given query and return the summary of the first result.\n",
    "    \n",
    "    Args:\n",
    "        query (str): The search term to look up on Wikipedia.\n",
    "    \n",
    "    Returns:\n",
    "        str: A summary of the first search result from Wikipedia.\n",
    "    \"\"\"\n",
    "    titulo_paginas = wikipedia.search(query)\n",
    "    resumos = []\n",
    "    for titulo in titulo_paginas[:3]:  # Limiting to the first 3 results\n",
    "        try:\n",
    "            pagina = wikipedia.page(titulo, auto_suggest=True)\n",
    "            resumos.append(f\"{titulo}: {pagina.summary}\")\n",
    "        except wikipedia.exceptions.DisambiguationError as e:\n",
    "            # If there's a disambiguation page, we can skip it or handle it differently\n",
    "            continue\n",
    "        except wikipedia.exceptions.PageError as e:\n",
    "            # If the page does not exist, we can skip it\n",
    "            continue\n",
    "    if not resumos:\n",
    "        return \"Nenhum resultado encontrado.\"\n",
    "    return \"\\n\".join(resumos)\n",
    "\n",
    "search_wikipedia.invoke({\"query\": \"Python (programming language)\"}) # type: ignore\n",
    "function = convert_to_openai_function(search_wikipedia)\n",
    "\n",
    "prompt = ChatPromptTemplate.from_messages(\n",
    "    [\n",
    "        (\"system\", \"Você é um assistente que sabe sobre futebol e fala com sotaque nordestino\"),\n",
    "        (\"user\", \"{query}\"),\n",
    "    ]\n",
    ")\n",
    "\n",
    "model = ChatOpenAI(model=\"gpt-3.5-turbo-0125\")\n",
    "\n",
    "chain = prompt | model.bind(functions=[function], function_call=\"auto\") | StrOutputParser()\n",
    "response = chain.invoke({\"query\": \"Quem foi melhor Ronaldinho Gaúcho ou Messi? Em números\"})  \n",
    "print(response)"
   ]
  }
 ],
 "metadata": {
  "kernelspec": {
   "display_name": ".venv",
   "language": "python",
   "name": "python3"
  },
  "language_info": {
   "codemirror_mode": {
    "name": "ipython",
    "version": 3
   },
   "file_extension": ".py",
   "mimetype": "text/x-python",
   "name": "python",
   "nbconvert_exporter": "python",
   "pygments_lexer": "ipython3",
   "version": "3.12.2"
  }
 },
 "nbformat": 4,
 "nbformat_minor": 5
}
