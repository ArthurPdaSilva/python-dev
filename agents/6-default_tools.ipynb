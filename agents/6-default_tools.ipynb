{
 "cells": [
  {
   "cell_type": "markdown",
   "id": "d2546b02",
   "metadata": {},
   "source": [
    "Em caso de curiosidade tem o langchain integrations tools"
   ]
  },
  {
   "cell_type": "code",
   "execution_count": null,
   "id": "f2a2b54f",
   "metadata": {},
   "outputs": [
    {
     "data": {
      "text/plain": [
       "'A wrapper around StackExchange. Useful for when you need to answer specific programming questionscode excerpts, code examples and solutionsInput should be a fully formed question.'"
      ]
     },
     "execution_count": 5,
     "metadata": {},
     "output_type": "execute_result"
    }
   ],
   "source": [
    "from langchain_experimental.tools.python.tool import PythonREPLTool\n",
    "from langchain.agents import load_tools\n",
    "\n",
    "tool_reply = PythonREPLTool()\n",
    "# tool_reply.description\n",
    "# tool_reply.run(\"print('Hello, world!')\")\n",
    "\n",
    "\n",
    "tools = load_tools([\"stackexchange\"])\n",
    "tools[0].description\n",
    "tools[0].run(\"What is the capital of France?\")"
   ]
  }
 ],
 "metadata": {
  "kernelspec": {
   "display_name": ".venv",
   "language": "python",
   "name": "python3"
  },
  "language_info": {
   "codemirror_mode": {
    "name": "ipython",
    "version": 3
   },
   "file_extension": ".py",
   "mimetype": "text/x-python",
   "name": "python",
   "nbconvert_exporter": "python",
   "pygments_lexer": "ipython3",
   "version": "3.12.2"
  }
 },
 "nbformat": 4,
 "nbformat_minor": 5
}
