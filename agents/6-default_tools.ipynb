{
 "cells": [
  {
   "cell_type": "markdown",
   "id": "d2546b02",
   "metadata": {},
   "source": [
    "Em caso de curiosidade tem o langchain integrations tools"
   ]
  },
  {
   "cell_type": "code",
   "execution_count": 6,
   "id": "f2a2b54f",
   "metadata": {},
   "outputs": [
    {
     "data": {
      "text/plain": [
       "'Question: Using llama-index with the deployed LLM\\nBut <span class=\"highlight\">the</span> problem <span class=\"highlight\">is</span> i am not sure how to host it and also make it more efficient. &hellip; <span class=\"highlight\">is</span> <span class=\"highlight\">the</span> <span class=\"highlight\">capital</span> <span class=\"highlight\">of</span> <span class=\"highlight\">France</span>?&quot; &hellip; \\n\\nQuestion: How to include image as part of user prompt in haystack 2.X?\\nI am referring to <span class=\"highlight\">the</span> haystack docs to create a pipeline, here <span class=\"highlight\">is</span> <span class=\"highlight\">the</span> example <span class=\"highlight\">of</span> <span class=\"highlight\">the</span> pipeline using prompt builder:\\nfrom haystack import Pipeline\\nfrom haystack.utils import Secret\\nfrom haystack.components.retrievers.in_memory &hellip; <span class=\"highlight\">the</span> <span class=\"highlight\">capital</span> <span class=\"highlight\">of</span> Italy&quot;), Document(content=&quot;Paris <span class=\"highlight\">is</span> <span class=\"highlight\">the</span> <span class=\"highlight\">capital</span> <span class=\"highlight\">of</span> <span class=\"highlight\">France</span>&quot;)])\\n\\nquery = &quot;<span class=\"highlight\">What</span> <span class=\"highlight\">is</span> <span class=\"highlight\">the</span> <span class=\"highlight\">capital</span> <span class=\"highlight\">of</span> <span class=\"highlight\">France</span>?&quot; &hellip; \\n\\nQuestion: Chatbot Not Responding: Colab FastAPI + Flask + Ngrok Setup\\nas a PowerShell Hashtable, then convert it to JSON\\n$body = @{\\n    &quot;message&quot; = &quot;Hello, <span class=\"highlight\">what</span> <span class=\"highlight\">is</span> <span class=\"highlight\">the</span> <span class=\"highlight\">capital</span> <span class=\"highlight\">of</span> <span class=\"highlight\">France</span>?&quot; &hellip; <span class=\"highlight\">is</span> <span class=\"highlight\">the</span> <span class=\"highlight\">capital</span> <span class=\"highlight\">of</span> <span class=\"highlight\">France</span>? &hellip; '"
      ]
     },
     "execution_count": 6,
     "metadata": {},
     "output_type": "execute_result"
    }
   ],
   "source": [
    "from langchain_experimental.tools.python.tool import PythonREPLTool\n",
    "from langchain.agents import load_tools\n",
    "\n",
    "tool_reply = PythonREPLTool()\n",
    "# tool_reply.description\n",
    "# tool_reply.run(\"print('Hello, world!')\")\n",
    "\n",
    "\n",
    "tools = load_tools([\"stackexchange\"])\n",
    "tools[0].description\n",
    "tools[0].run(\"What is the capital of France?\")"
   ]
  }
 ],
 "metadata": {
  "kernelspec": {
   "display_name": ".venv",
   "language": "python",
   "name": "python3"
  },
  "language_info": {
   "codemirror_mode": {
    "name": "ipython",
    "version": 3
   },
   "file_extension": ".py",
   "mimetype": "text/x-python",
   "name": "python",
   "nbconvert_exporter": "python",
   "pygments_lexer": "ipython3",
   "version": "3.12.2"
  }
 },
 "nbformat": 4,
 "nbformat_minor": 5
}
