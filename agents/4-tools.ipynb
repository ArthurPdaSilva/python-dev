{
 "cells": [
  {
   "cell_type": "code",
   "execution_count": 18,
   "id": "8d846b71",
   "metadata": {},
   "outputs": [
    {
     "data": {
      "text/plain": [
       "'O filme \"Inception\" foi lançado em 2010, dirigido por Christopher Nolan.'"
      ]
     },
     "execution_count": 18,
     "metadata": {},
     "output_type": "execute_result"
    }
   ],
   "source": [
    "from langchain.agents import tool\n",
    "from langchain.pydantic_v1 import BaseModel, Field\n",
    "from langchain_openai import ChatOpenAI\n",
    "from langchain.prompts import ChatPromptTemplate\n",
    "\n",
    "\n",
    "class CalcularDistanciaArgs(BaseModel):\n",
    "    cidade_origem: str = Field(description=\"CIdade de origem\",\n",
    "                               examples=[\"São Paulo\", \"Rio de Janeiro\"])\n",
    "    cidade_destino: str = Field(description=\"CIdade de destino\",\n",
    "                               examples=[\"Porto Alegre\", \"Curitiba\"])\n",
    "    \n",
    "@tool(args_schema=CalcularDistanciaArgs)\n",
    "def calcular_distancia(cidade_origem: str, cidade_destino: str):\n",
    "    \"\"\"Calcula a distância entre duas cidades\"\"\"\n",
    "    return f\"A distância entre {cidade_origem} e {cidade_destino} é de 300km\"\n",
    "\n",
    "calcular_distancia.invoke({\"cidade_origem\": \"São Paulo\", \"cidade_destino\": \"Porto Alegre\"}) # type: ignore\n",
    "\n",
    "class OperacaoMatematicaArgs(BaseModel):\n",
    "    numero1: float = Field(description=\"Primeiro número\", examples=[10, 5])\n",
    "    numero2: float = Field(description=\"Segundo número\", examples=[20, 3])\n",
    "    operacao: str = Field(description=\"Operação a ser realizada\", examples=[\"soma\", \"subtração\"])\n",
    "    \n",
    "@tool(args_schema=OperacaoMatematicaArgs)\n",
    "def realizar_calculo(numero1: float, numero2: float, operacao: str):\n",
    "    \"\"\"Realiza operações matemáticas básicas\"\"\"\n",
    "    if operacao == \"soma\":\n",
    "        return numero1 + numero2\n",
    "    elif operacao == \"subtração\":\n",
    "        return numero1 + numero2\n",
    "    return \"Operação inválida\"\n",
    "    \n",
    "\n",
    "realizar_calculo.invoke({\"numero1\": 10, \"numero2\": 5, \"operacao\": \"soma\"}) # type: ignore\n",
    "\n",
    "class InformacoesFilmeArgs(BaseModel):\n",
    "    titulo_filme: str = Field(description='Título do filme', \n",
    "                              examples=['Inception', 'The Matrix'])\n",
    "\n",
    "@tool(args_schema=InformacoesFilmeArgs)\n",
    "def obter_informacoes_filme(titulo_filme: str):\n",
    "    '''Retorna informações sobre um filme'''\n",
    "    # Simulando a resposta com informações fictícias\n",
    "    return f'O filme \"{titulo_filme}\" foi lançado em 2010, dirigido por Christopher Nolan.'\n",
    "\n",
    "obter_informacoes_filme.invoke({\"titulo_filme\": \"Inception\"})  # type: ignore\n"
   ]
  }
 ],
 "metadata": {
  "kernelspec": {
   "display_name": ".venv",
   "language": "python",
   "name": "python3"
  },
  "language_info": {
   "codemirror_mode": {
    "name": "ipython",
    "version": 3
   },
   "file_extension": ".py",
   "mimetype": "text/x-python",
   "name": "python",
   "nbconvert_exporter": "python",
   "pygments_lexer": "ipython3",
   "version": "3.12.2"
  }
 },
 "nbformat": 4,
 "nbformat_minor": 5
}
