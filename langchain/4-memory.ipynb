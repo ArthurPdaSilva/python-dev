{
 "cells": [
  {
   "cell_type": "code",
   "execution_count": null,
   "id": "a476033b",
   "metadata": {},
   "outputs": [
    {
     "name": "stdout",
     "output_type": "stream",
     "text": [
      "[HumanMessage(content='Hello, how are you?'), AIMessage(content=\"I'm doing well, thank you!\")]\n",
      "\n",
      "\n",
      "\u001b[1m> Entering new ConversationChain chain...\u001b[0m\n",
      "Prompt after formatting:\n",
      "\u001b[32;1m\u001b[1;3mThe following is a friendly conversation between a human and an AI. The AI is talkative and provides lots of specific details from its context. If the AI does not know the answer to a question, it truthfully says it does not know.\n",
      "\n",
      "Current conversation:\n",
      "[]\n",
      "Human: Faça uma poesia de 50 palavras sobre o Brasil.\n",
      "AI:\u001b[0m\n",
      "\n",
      "\u001b[1m> Finished chain.\u001b[0m\n",
      "\n",
      "\n",
      "\u001b[1m> Entering new ConversationChain chain...\u001b[0m\n",
      "Prompt after formatting:\n",
      "\u001b[32;1m\u001b[1;3mThe following is a friendly conversation between a human and an AI. The AI is talkative and provides lots of specific details from its context. If the AI does not know the answer to a question, it truthfully says it does not know.\n",
      "\n",
      "Current conversation:\n",
      "[HumanMessage(content='Faça uma poesia de 50 palavras sobre o Brasil.'), AIMessage(content='Nas terras tropicais do Brasil\\nO sol brilha com esplendor\\nCores vibrantes, fauna exuberante\\nCultura rica em cada canto\\nDo samba ao futebol, paixão sem igual\\nPovos diversos, união em carnaval\\nDo Amazonas ao Pantanal\\nBelezas naturais sem igual\\nBrasil, terra de encanto sem igual.')]\n",
      "Human: Em relação a poesia anterior, qual era o tema e como você descreveria o tom da praia?\n",
      "AI:\u001b[0m\n",
      "\n",
      "\u001b[1m> Finished chain.\u001b[0m\n"
     ]
    },
    {
     "data": {
      "text/plain": [
       "'O tema da poesia era o Brasil, com uma descrição positiva e vibrante. O tom da poesia era alegre, exaltando as belezas naturais, a cultura rica e a diversidade do país. A praia foi descrita como um lugar de encanto e beleza sem igual, refletindo a exuberância e a paixão presentes na cultura brasileira.'"
      ]
     },
     "execution_count": 7,
     "metadata": {},
     "output_type": "execute_result"
    }
   ],
   "source": [
    "from langchain.memory import ConversationBufferMemory, ConversationTokenBufferMemory\n",
    "from langchain_openai import ChatOpenAI\n",
    "from langchain.chains.conversation.base import ConversationChain\n",
    "\n",
    "memory = ConversationBufferMemory(return_messages=True)\n",
    "memory.chat_memory.add_user_message(\"Hello, how are you?\")\n",
    "memory.chat_memory.add_ai_message(\"I'm doing well, thank you!\")\n",
    "memory.load_memory_variables({})\n",
    "print(memory.chat_memory.messages)\n",
    "\n",
    "chat = ChatOpenAI(model=\"gpt-3.5-turbo-0125\")\n",
    "conversation = ConversationChain(\n",
    "    llm=chat,\n",
    "    memory=memory,\n",
    "    verbose=True\n",
    ")\n",
    "\n",
    "# conversation.predict(input=\"Hi, my name is John.\")\n",
    "# conversation.predict(input=\"What is my name?\")\n",
    "\n",
    "# Using ConversationTokenBufferMemory\n",
    "token_memory = ConversationTokenBufferMemory(\n",
    "    llm=chat,\n",
    "    max_token_limit=1000,\n",
    "    return_messages=True\n",
    ")\n",
    "conversation_with_token_memory = ConversationChain(\n",
    "    llm=chat,\n",
    "    memory=token_memory,\n",
    "    verbose=True\n",
    ")\n",
    "# conversation_with_token_memory.predict(input=\"Faça uma poesia de 50 palavras sobre o Brasil.\")\n",
    "conversation_with_token_memory.predict(input=\"A poesia era sobre qual país?\")\n"
   ]
  }
 ],
 "metadata": {
  "kernelspec": {
   "display_name": ".venv",
   "language": "python",
   "name": "python3"
  },
  "language_info": {
   "codemirror_mode": {
    "name": "ipython",
    "version": 3
   },
   "file_extension": ".py",
   "mimetype": "text/x-python",
   "name": "python",
   "nbconvert_exporter": "python",
   "pygments_lexer": "ipython3",
   "version": "3.12.2"
  }
 },
 "nbformat": 4,
 "nbformat_minor": 5
}
