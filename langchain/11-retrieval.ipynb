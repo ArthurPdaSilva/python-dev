{
 "cells": [
  {
   "cell_type": "code",
   "execution_count": null,
   "id": "e7645fe3",
   "metadata": {},
   "outputs": [],
   "source": [
    "from langchain_community.document_loaders.pdf import PyPDFLoader\n",
    "from langchain_text_splitters import RecursiveCharacterTextSplitter\n",
    "from langchain_openai import OpenAIEmbeddings\n",
    "from langchain_chroma import Chroma\n",
    "\n",
    "path = [\n",
    "    \"files/apostila.pdf\",\n",
    "    \"files/LLM.pdf\"\n",
    "]\n",
    "\n",
    "pages = []\n",
    "\n",
    "for p in path:\n",
    "    loader = PyPDFLoader(p)\n",
    "    docs = loader.load()\n",
    "    pages.extend(docs)\n",
    "\n",
    "\n",
    "recur_char_split = RecursiveCharacterTextSplitter(\n",
    "    chunk_size=500,\n",
    "    chunk_overlap=50,\n",
    "    separators=[\"\\n\\n\", \"\\n\", \" \", \"\"]\n",
    ")\n",
    "\n",
    "split_docs = recur_char_split.split_documents(pages)\n",
    "\n",
    "directory = \"files/chroma_vectorstore\"\n",
    "\n",
    "embeddings = OpenAIEmbeddings()\n",
    "vector_store = Chroma.from_documents(\n",
    "    split_docs, embeddings, persist_directory=directory\n",
    ")\n",
    "\n"
   ]
  },
  {
   "cell_type": "code",
   "execution_count": null,
   "id": "79ecb2ac",
   "metadata": {},
   "outputs": [],
   "source": [
    "for i, doc in enumerate(split_docs):\n",
    "    doc.metadata['source'] = doc.metadata['source'].replace('files/', '')\n",
    "    doc.metadata['doc_id'] = i"
   ]
  },
  {
   "cell_type": "code",
   "execution_count": null,
   "id": "7617efd7",
   "metadata": {},
   "outputs": [],
   "source": [
    "from langchain_openai import OpenAIEmbeddings\n",
    "from langchain_community.vectorstores.chroma import Chroma\n",
    "\n",
    "embeddings_model = OpenAIEmbeddings()\n",
    "diretorio = 'files/chroma_retrival_bd'\n",
    "\n",
    "vectordb = Chroma.from_documents(\n",
    "    documents=split_docs,\n",
    "    embedding=embeddings_model,\n",
    "    persist_directory=diretorio\n",
    ")"
   ]
  },
  {
   "cell_type": "code",
   "execution_count": null,
   "id": "d6447a92",
   "metadata": {},
   "outputs": [],
   "source": [
    "# Semantic search\n",
    "question = \"O que é uma LLM?\"\n",
    "docs = vectordb.similarity_search(question, k=10)\n",
    "for doc in docs:\n",
    "    print(f\"Source: {doc.metadata}\")\n",
    "    print(f\"Content: {doc.page_content}\\n\")"
   ]
  },
  {
   "cell_type": "code",
   "execution_count": null,
   "id": "fedd74dd",
   "metadata": {},
   "outputs": [],
   "source": [
    "# Max Marginal Relevance -> Ele é usado para trazer os documentos mais relevantes e diversos\n",
    "question = \"O que é uma LLM?\"\n",
    "# k é o número de documentos que você quer retornar\n",
    "# fetch_k é o número de documentos que serão buscados inicialmente para depois aplicar a MMR\n",
    "docs = vectordb.max_marginal_relevance_search(question, k=3, fetch_k=10) \n",
    "for doc in docs:\n",
    "    print(f\"Source: {doc.metadata}\")\n",
    "    print(f\"Content: {doc.page_content}\\n\")"
   ]
  },
  {
   "cell_type": "code",
   "execution_count": null,
   "id": "cc427a6b",
   "metadata": {},
   "outputs": [],
   "source": [
    "# Filtragem\n",
    "question = \"O que a apostila de LLM fala sobre a OpenAI e o ChatGPT?\"\n",
    "docs = vectordb.similarity_search(question, k=3, filter={\"source\": \"apostila.pdf\"}) \n",
    "# docs = vectordb.similarity_search(\n",
    "#     question, \n",
    "#     k=3,\n",
    "#     filter={'$and':\n",
    "#             [{'source': {'$in': ['LLM.pdf']}},\n",
    "#             {'page': {'$in': [3, 4, 5, 6]}}],\n",
    "#             })\n",
    "for doc in docs:\n",
    "    print(f\"Source: {doc.metadata}\")\n",
    "    print(f\"Content: {doc.page_content}\\n\")"
   ]
  },
  {
   "cell_type": "code",
   "execution_count": null,
   "id": "6724f1ab",
   "metadata": {},
   "outputs": [],
   "source": [
    "### LLM Aided Retrieval\n",
    "from langchain_openai.llms import OpenAI\n",
    "from langchain.retrievers.self_query.base import SelfQueryRetriever\n",
    "from langchain.chains.query_constructor.schema import AttributeInfo\n",
    "\n",
    "metadata_info = [\n",
    "    AttributeInfo(\n",
    "        name='source',\n",
    "        description='Nome da apostila de onde o texto original foi retirado. Pode ser \"apostila.pdf\" ou \"LLM.pdf\".',\n",
    "        type='string'\n",
    "    ),\n",
    "    AttributeInfo(\n",
    "        name='page',\n",
    "        description='A página da apostila de onde o texto foi extraído. Número da página.',\n",
    "        type='integer'\n",
    "    ),\n",
    "]\n",
    "\n",
    "document_description = 'Apostilas de informações'\n",
    "llm = OpenAI()\n",
    "retriever = SelfQueryRetriever.from_llm(\n",
    "    llm,\n",
    "    vectordb,\n",
    "    document_description,\n",
    "    metadata_info,\n",
    "    verbose=True\n",
    ")\n",
    "\n",
    "pergunta = 'O que a apostila de LLM fala sobre a OpenAI, ChatGPT e Hugging Face?'\n",
    "\n",
    "docs = retriever.get_relevant_documents(pergunta)\n",
    "for doc in docs:\n",
    "    print(doc.page_content)\n",
    "    print(f'==========={doc.metadata}\\n\\n')\n"
   ]
  }
 ],
 "metadata": {
  "kernelspec": {
   "display_name": ".venv",
   "language": "python",
   "name": "python3"
  },
  "language_info": {
   "codemirror_mode": {
    "name": "ipython",
    "version": 3
   },
   "file_extension": ".py",
   "mimetype": "text/x-python",
   "name": "python",
   "nbconvert_exporter": "python",
   "pygments_lexer": "ipython3",
   "version": "3.12.2"
  }
 },
 "nbformat": 4,
 "nbformat_minor": 5
}
