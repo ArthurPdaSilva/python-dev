{
 "cells": [
  {
   "cell_type": "code",
   "execution_count": null,
   "id": "97478a3f",
   "metadata": {},
   "outputs": [],
   "source": [
    "from langchain_community.document_loaders.pdf import PyPDFLoader\n",
    "from langchain.chains.question_answering import load_qa_chain\n",
    "from langchain_openai import ChatOpenAI\n",
    "\n",
    "\n",
    "# Document Loader\n",
    "arq = \"files/apostila.pdf\"\n",
    "loader = PyPDFLoader(arq)\n",
    "documents = loader.load()\n",
    "# Document Loader\n",
    "\n",
    "# Testes só com o document loader\n",
    "chat = ChatOpenAI(model=\"gpt-3.5-turbo-0125\")\n",
    "chain = load_qa_chain(chat, chain_type=\"stuff\", verbose=True)\n",
    "input = \"Do que se trata o documento?\"\n",
    "chain.run(input_documents=documents[:8], question=input)\n",
    "# Testes só com o document loader"
   ]
  },
  {
   "cell_type": "code",
   "execution_count": null,
   "id": "f03a07dc",
   "metadata": {},
   "outputs": [],
   "source": [
    "from langchain_community.document_loaders.csv_loader import CSVLoader\n",
    "from langchain.chains.question_answering import load_qa_chain\n",
    "from langchain_openai import ChatOpenAI\n",
    "\n",
    "\n",
    "# Document Loader CSV\n",
    "arq = \"files/imdb_movies.csv\"\n",
    "loader = CSVLoader(arq)\n",
    "documents = loader.load()\n",
    "# Document Loader CSV\n",
    "\n",
    "# Testes só com o document loader\n",
    "chat = ChatOpenAI(model=\"gpt-3.5-turbo-0125\")\n",
    "chain = load_qa_chain(chat, chain_type=\"stuff\", verbose=True)\n",
    "input = \"Qual o filme com o maior metascore?\"\n",
    "chain.run(input_documents=documents[:10], question=input)\n",
    "# Testes só com o document loader"
   ]
  },
  {
   "cell_type": "code",
   "execution_count": 14,
   "id": "186c082b",
   "metadata": {},
   "outputs": [],
   "source": [
    "from langchain_community.document_loaders.generic import GenericLoader\n",
    "from langchain_community.document_loaders.blob_loaders.youtube_audio import YoutubeAudioLoader\n",
    "from langchain.document_loaders.parsers import OpenAIWhisperParser\n",
    "\n",
    "\n",
    "# Document Loader Vídeos do YouTube\n",
    "# url = \"https://www.youtube.com/watch?v=XCx20h0XqME&list=RDXCx20h0XqME&start_radio=1\"\n",
    "# save_dir = \"files/youtube\"\n",
    "# loader = GenericLoader(\n",
    "#     YoutubeAudioLoader([url], save_dir),\n",
    "#     OpenAIWhisperParser(),\n",
    "# )\n",
    "# documents = loader.load()\n",
    "# # Document Loader Vídeos do YouTube\n",
    "\n",
    "# # Testes só com o document loader\n",
    "# chat = ChatOpenAI(model=\"gpt-3.5-turbo-0125\")\n",
    "# input = \"Sobre o que é o vídeo?\"\n",
    "# chain.run(input_documents=documents, question=input)\n",
    "# Testes só com o document loader"
   ]
  },
  {
   "cell_type": "code",
   "execution_count": 17,
   "id": "43fc2f07",
   "metadata": {},
   "outputs": [
    {
     "name": "stdout",
     "output_type": "stream",
     "text": [
      "\n",
      "\n",
      "\u001b[1m> Entering new StuffDocumentsChain chain...\u001b[0m\n",
      "\n",
      "\n",
      "\u001b[1m> Entering new LLMChain chain...\u001b[0m\n",
      "Prompt after formatting:\n",
      "\u001b[32;1m\u001b[1;3mSystem: Use the following pieces of context to answer the user's question. \n",
      "If you don't know the answer, just say that you don't know, don't try to make up an answer.\n",
      "----------------\n",
      "Navigating Google Cloud Platform for Gmail API Integration. | by Ralphbetta | MediumSitemapOpen in appSign upSign inMedium LogoWriteSign upSign inNavigating Google Cloud Platform for Gmail API Integration.Ralphbetta3 min read·Mar 26, 2024--ListenShareIntegrating the Gmail API into your application through the Google Cloud Platform (GCP) provides powerful capabilities for managing and interacting with Gmail data programmatically. This integration involves several steps, including project setup, enabling the Gmail API, obtaining credentials, and implementing API access within your application. Here’s a detailed guide on how to proceed:Step 1: Create a ProjectGo to the Google Cloud Console: https://console.cloud.google.com/.Create a new project or select an existing one from the project dropdown menu.Switch to your preferred project from the dropdown after the creation.Step 2: Enable Gmail APIIn the Cloud Console, navigate to the “APIs & Services” > “Library” section.Search for “Gmail API” and click on it.Click the “Enable” button to enable the Gmail API for your project.Step 3: OAuth2 - App RegistrationIn the Cloud Console, navigate to the “APIs & Services” > “OAuth Consent Screen” section.Select External and createEnter App NameSelect user support emailEnter the developer contact emailSave and ContinueStep 4: OAuth2 - Scopes SetupMake no changes in scope tapSave and ContinueStep 5: OAuth2 -Add Test UserAdd test user (Could be the same email)Save and ContinueStep 6: Set Up OAuth2 CredentialsIn the Cloud Console, navigate to the Credentials or from the “APIs & Services” > “Credentials” section in the sidebar.Click the “Create credentials” dropdown and select “OAuth client ID.”Choose “Web application” as the application type (even if you’re building a non-web application).Enter a name for your OAuth client.Under “Authorized redirect URIs,” add the URI where Google will redirect users after they are granted access. For development purposes, you can use https://developers.google.com/oauthplaygroundClick “Create.”Step 6: Obtain Client ID and Client SecretOnce you’ve created your OAuth2 credentials, Google will provide you with a client ID and client secret.Step 7: Download JSON File (Service Account Key) (Optional for Server-to-Server Communication)If you’re setting up server-to-server communication, for example, for sending emails from a backend service, you can use service account credentials. Here’s how to obtain them:In the Cloud Console, navigate to the “APIs & Services” > “Credentials” section.Click on “Create credentials” and choose “Service account.”Fill in the necessary details and click “Create.”After the service account is created, click on it in the list of service accounts.Go to the “Keys” tab and click “Add key” > “Create new key.”Choose the JSON key type and click “Create.” This will download a JSON file containing your service account credentials.Step 8: Generate an Access Token that will be used to authenticate Gmail API requestHead over to https://developers.google.com/oauthplaygroundSelect the gear icon on the right,Check “use your own OAuth credentials”Enter your OAuth client ID and secret ID then closeFrom the left form, Enter https://mail.google.com and authorise APIsFollow the prompts carefully until you’re back to the playground.Click on the exchange authorization code button for tokensAnd copy your refresh token.Step 9: Use OAuth2 Credentials in Your ApplicationIn your Node.js application, use the client ID and client secret to authenticate your application with Google services using OAuth2.If you’re using service account credentials for server-to-server communication, use the JSON file downloaded to authenticate your application.GmailGcpGoogle Cloud PlatformAutomationNodejs----Written by Ralphbetta31 followers·4 followingNo responses yetHelpStatusAboutCareersPressBlogPrivacyRulesTermsText to speech\n",
      "\n",
      "\n",
      "\n",
      "\n",
      "\n",
      "\n",
      "\n",
      "\n",
      "\n",
      "\n",
      "\n",
      "\n",
      "\n",
      "\n",
      "\n",
      "\n",
      "\n",
      "\n",
      "\n",
      "\n",
      "\n",
      "\n",
      "\n",
      "\n",
      "\n",
      "\n",
      "\n",
      "\n",
      "\n",
      "\n",
      "\n",
      "\n",
      "\n",
      "\n",
      "\n",
      "Human: Resuma o artigo. Em ptbr\u001b[0m\n",
      "\n",
      "\u001b[1m> Finished chain.\u001b[0m\n",
      "\n",
      "\u001b[1m> Finished chain.\u001b[0m\n"
     ]
    },
    {
     "data": {
      "text/plain": [
       "'O artigo fornece um guia detalhado sobre como integrar a API do Gmail em um aplicativo por meio da Google Cloud Platform (GCP). Os passos incluem a criação de um projeto, habilitação da API do Gmail, obtenção de credenciais OAuth2, configuração de escopos, adição de um usuário de teste, obtenção de um token de acesso e uso das credenciais OAuth2 no aplicativo. Também aborda a opção de comunicação servidor-servidor e como obter um arquivo JSON de chave de conta de serviço.'"
      ]
     },
     "execution_count": 17,
     "metadata": {},
     "output_type": "execute_result"
    }
   ],
   "source": [
    "from langchain_community.document_loaders.web_base import WebBaseLoader\n",
    "\n",
    "# Document Loader Web\n",
    "url_Web = \"https://medium.com/@ralphbetta/navigating-google-cloud-platform-for-gmail-api-integration-781d453843f8\"\n",
    "web_loader = WebBaseLoader(url_Web)\n",
    "documents = web_loader.load()\n",
    "# Document Loader Web\n",
    "\n",
    "# Testes só com o document loader\n",
    "chat = ChatOpenAI(model=\"gpt-3.5-turbo-0125\")\n",
    "input = \"Resuma o artigo. Em ptbr\"\n",
    "chain.run(input_documents=documents, question=input)\n",
    "# Testes só com o document loader"
   ]
  }
 ],
 "metadata": {
  "kernelspec": {
   "display_name": ".venv",
   "language": "python",
   "name": "python3"
  },
  "language_info": {
   "codemirror_mode": {
    "name": "ipython",
    "version": 3
   },
   "file_extension": ".py",
   "mimetype": "text/x-python",
   "name": "python",
   "nbconvert_exporter": "python",
   "pygments_lexer": "ipython3",
   "version": "3.12.2"
  }
 },
 "nbformat": 4,
 "nbformat_minor": 5
}
